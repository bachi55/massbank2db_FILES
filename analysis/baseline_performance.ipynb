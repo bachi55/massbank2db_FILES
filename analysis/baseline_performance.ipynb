{
 "cells": [
  {
   "cell_type": "markdown",
   "id": "a3ca3cf9-1196-4631-b61e-18a4c1f133f8",
   "metadata": {},
   "source": [
    "# Performance of MetFrag and SIRIUS on the MassBank Data\n",
    "\n",
    "For the performance evaluation, we are looking at the case where performance when only tandem mass-spectrometry (MS2) information is used."
   ]
  },
  {
   "cell_type": "code",
   "execution_count": 22,
   "id": "ad50d6d8-f86d-4caa-afa4-9a689114e7b2",
   "metadata": {},
   "outputs": [],
   "source": [
    "import sqlite3 \n",
    "import numpy as np\n",
    "\n",
    "from matchms import Spectrum\n",
    "\n",
    "from ssvm.data_structures import CandSQLiteDB_Massbank\n",
    "from ssvm.evaluation_tools import get_topk_performance_csifingerid"
   ]
  },
  {
   "cell_type": "code",
   "execution_count": 8,
   "id": "18bffa86-58e7-42ae-829f-be48ab88b591",
   "metadata": {},
   "outputs": [],
   "source": [
    "DB_FN = \"../db/massbank__with_metfrag.sqlite\"\n",
    "DB_URI = \"file:\" + DB_FN + \"?mode=ro\"\n",
    "DB_CONN_RO = sqlite3.connect(DB_URI, uri=True)"
   ]
  },
  {
   "cell_type": "code",
   "execution_count": 44,
   "id": "be1a7510-3482-45b9-8b73-3eab8a25d68d",
   "metadata": {},
   "outputs": [
    {
     "name": "stdout",
     "output_type": "stream",
     "text": [
      "AC_003\n",
      "320.0\n",
      "[12.8 32.3 40.2 45.3]\n",
      "[26.8 55.  61.2 62.6]\n",
      "AU_003\n",
      "1319.0\n",
      "[ 3.8 16.2 32.2 40.7]\n",
      "[39.4 66.7 73.3 77.8]\n",
      "AU_002\n",
      "1009.0\n",
      "[ 4.4 20.8 31.7 41.2]\n",
      "[41.8 64.5 72.1 77.5]\n",
      "AU_001\n",
      "800.0\n",
      "[ 2.8 18.2 31.3 42.4]\n",
      "[37. 72. 76. 78.]\n",
      "BML_001\n",
      "1037.0\n",
      "[ 2.5 12.3 19.  28. ]\n",
      "[30.8 65.6 72.  77.2]\n",
      "CE_001\n",
      "836.5\n",
      "[ 2.1  6.9 16.7 25.2]\n",
      "[52.6 74.4 82.1 94.9]\n",
      "EA_003\n",
      "1313.0\n",
      "[ 5.8 29.  43.6 56.9]\n",
      "[55.  80.8 85.  89.9]\n",
      "EA_002\n",
      "1381.0\n",
      "[ 3.7 21.2 36.8 46.2]\n",
      "[38.9 64.8 72.8 79.7]\n",
      "EQ_006\n",
      "1046.5\n",
      "[ 6.7 26.3 33.3 44.1]\n",
      "[48.8 71.1 77.7 83.9]\n",
      "EQ_004\n"
     ]
    },
    {
     "ename": "KeyboardInterrupt",
     "evalue": "",
     "output_type": "error",
     "traceback": [
      "\u001b[0;31m---------------------------------------------------------------------------\u001b[0m",
      "\u001b[0;31mKeyboardInterrupt\u001b[0m                         Traceback (most recent call last)",
      "\u001b[0;32m<ipython-input-44-efdf2f01bd29>\u001b[0m in \u001b[0;36m<module>\u001b[0;34m\u001b[0m\n\u001b[1;32m     34\u001b[0m \u001b[0;34m\u001b[0m\u001b[0m\n\u001b[1;32m     35\u001b[0m         \u001b[0;31m# Get the MS2 scores\u001b[0m\u001b[0;34m\u001b[0m\u001b[0;34m\u001b[0m\u001b[0;34m\u001b[0m\u001b[0m\n\u001b[0;32m---> 36\u001b[0;31m         \u001b[0md_mf\u001b[0m\u001b[0;34m[\u001b[0m\u001b[0midx\u001b[0m\u001b[0;34m]\u001b[0m\u001b[0;34m[\u001b[0m\u001b[0;34m\"score\"\u001b[0m\u001b[0;34m]\u001b[0m \u001b[0;34m=\u001b[0m \u001b[0mcands\u001b[0m\u001b[0;34m.\u001b[0m\u001b[0mget_ms2_scores\u001b[0m\u001b[0;34m(\u001b[0m\u001b[0mspec\u001b[0m\u001b[0;34m,\u001b[0m \u001b[0;34m\"metfrag\"\u001b[0m\u001b[0;34m,\u001b[0m \u001b[0mscale_scores_to_range\u001b[0m\u001b[0;34m=\u001b[0m\u001b[0;32mFalse\u001b[0m\u001b[0;34m,\u001b[0m \u001b[0mreturn_as_ndarray\u001b[0m\u001b[0;34m=\u001b[0m\u001b[0;32mTrue\u001b[0m\u001b[0;34m)\u001b[0m\u001b[0;34m\u001b[0m\u001b[0;34m\u001b[0m\u001b[0m\n\u001b[0m\u001b[1;32m     37\u001b[0m         \u001b[0md_sir\u001b[0m\u001b[0;34m[\u001b[0m\u001b[0midx\u001b[0m\u001b[0;34m]\u001b[0m\u001b[0;34m[\u001b[0m\u001b[0;34m\"score\"\u001b[0m\u001b[0;34m]\u001b[0m \u001b[0;34m=\u001b[0m \u001b[0mcands\u001b[0m\u001b[0;34m.\u001b[0m\u001b[0mget_ms2_scores\u001b[0m\u001b[0;34m(\u001b[0m\u001b[0mspec\u001b[0m\u001b[0;34m,\u001b[0m \u001b[0;34m\"sirius__sd__correct_mf\"\u001b[0m\u001b[0;34m,\u001b[0m \u001b[0mscale_scores_to_range\u001b[0m\u001b[0;34m=\u001b[0m\u001b[0;32mFalse\u001b[0m\u001b[0;34m,\u001b[0m \u001b[0mreturn_as_ndarray\u001b[0m\u001b[0;34m=\u001b[0m\u001b[0;32mTrue\u001b[0m\u001b[0;34m)\u001b[0m\u001b[0;34m\u001b[0m\u001b[0;34m\u001b[0m\u001b[0m\n\u001b[1;32m     38\u001b[0m         \u001b[0;31m#print(\".. got ms2 scores\")\u001b[0m\u001b[0;34m\u001b[0m\u001b[0;34m\u001b[0m\u001b[0;34m\u001b[0m\u001b[0m\n",
      "\u001b[0;32m~/.miniconda3/envs/massbank2db_FILES/lib/python3.8/site-packages/ssvm/data_structures.py\u001b[0m in \u001b[0;36mget_ms2_scores\u001b[0;34m(self, spectrum, ms2scorer, scale_scores_to_range, return_dataframe, return_as_ndarray, **kwargs)\u001b[0m\n\u001b[1;32m    492\u001b[0m \u001b[0;34m\u001b[0m\u001b[0m\n\u001b[1;32m    493\u001b[0m         \u001b[0;31m# Load the MS2 scores\u001b[0m\u001b[0;34m\u001b[0m\u001b[0;34m\u001b[0m\u001b[0;34m\u001b[0m\u001b[0m\n\u001b[0;32m--> 494\u001b[0;31m         df_scores = pd.read_sql_query(\n\u001b[0m\u001b[1;32m    495\u001b[0m             \u001b[0mself\u001b[0m\u001b[0;34m.\u001b[0m\u001b[0m_get_ms2_score_query\u001b[0m\u001b[0;34m(\u001b[0m\u001b[0mspectrum\u001b[0m\u001b[0;34m,\u001b[0m \u001b[0mms2scorer\u001b[0m\u001b[0;34m,\u001b[0m \u001b[0mcandidate_subset\u001b[0m\u001b[0;34m)\u001b[0m\u001b[0;34m,\u001b[0m\u001b[0;34m\u001b[0m\u001b[0;34m\u001b[0m\u001b[0m\n\u001b[1;32m    496\u001b[0m             \u001b[0mself\u001b[0m\u001b[0;34m.\u001b[0m\u001b[0mdb\u001b[0m\u001b[0;34m\u001b[0m\u001b[0;34m\u001b[0m\u001b[0m\n",
      "\u001b[0;32m~/.miniconda3/envs/massbank2db_FILES/lib/python3.8/site-packages/pandas/io/sql.py\u001b[0m in \u001b[0;36mread_sql_query\u001b[0;34m(sql, con, index_col, coerce_float, params, parse_dates, chunksize)\u001b[0m\n\u001b[1;32m    375\u001b[0m     \"\"\"\n\u001b[1;32m    376\u001b[0m     \u001b[0mpandas_sql\u001b[0m \u001b[0;34m=\u001b[0m \u001b[0mpandasSQL_builder\u001b[0m\u001b[0;34m(\u001b[0m\u001b[0mcon\u001b[0m\u001b[0;34m)\u001b[0m\u001b[0;34m\u001b[0m\u001b[0;34m\u001b[0m\u001b[0m\n\u001b[0;32m--> 377\u001b[0;31m     return pandas_sql.read_query(\n\u001b[0m\u001b[1;32m    378\u001b[0m         \u001b[0msql\u001b[0m\u001b[0;34m,\u001b[0m\u001b[0;34m\u001b[0m\u001b[0;34m\u001b[0m\u001b[0m\n\u001b[1;32m    379\u001b[0m         \u001b[0mindex_col\u001b[0m\u001b[0;34m=\u001b[0m\u001b[0mindex_col\u001b[0m\u001b[0;34m,\u001b[0m\u001b[0;34m\u001b[0m\u001b[0;34m\u001b[0m\u001b[0m\n",
      "\u001b[0;32m~/.miniconda3/envs/massbank2db_FILES/lib/python3.8/site-packages/pandas/io/sql.py\u001b[0m in \u001b[0;36mread_query\u001b[0;34m(self, sql, index_col, coerce_float, params, parse_dates, chunksize)\u001b[0m\n\u001b[1;32m   1741\u001b[0m \u001b[0;34m\u001b[0m\u001b[0m\n\u001b[1;32m   1742\u001b[0m         \u001b[0margs\u001b[0m \u001b[0;34m=\u001b[0m \u001b[0m_convert_params\u001b[0m\u001b[0;34m(\u001b[0m\u001b[0msql\u001b[0m\u001b[0;34m,\u001b[0m \u001b[0mparams\u001b[0m\u001b[0;34m)\u001b[0m\u001b[0;34m\u001b[0m\u001b[0;34m\u001b[0m\u001b[0m\n\u001b[0;32m-> 1743\u001b[0;31m         \u001b[0mcursor\u001b[0m \u001b[0;34m=\u001b[0m \u001b[0mself\u001b[0m\u001b[0;34m.\u001b[0m\u001b[0mexecute\u001b[0m\u001b[0;34m(\u001b[0m\u001b[0;34m*\u001b[0m\u001b[0margs\u001b[0m\u001b[0;34m)\u001b[0m\u001b[0;34m\u001b[0m\u001b[0;34m\u001b[0m\u001b[0m\n\u001b[0m\u001b[1;32m   1744\u001b[0m         \u001b[0mcolumns\u001b[0m \u001b[0;34m=\u001b[0m \u001b[0;34m[\u001b[0m\u001b[0mcol_desc\u001b[0m\u001b[0;34m[\u001b[0m\u001b[0;36m0\u001b[0m\u001b[0;34m]\u001b[0m \u001b[0;32mfor\u001b[0m \u001b[0mcol_desc\u001b[0m \u001b[0;32min\u001b[0m \u001b[0mcursor\u001b[0m\u001b[0;34m.\u001b[0m\u001b[0mdescription\u001b[0m\u001b[0;34m]\u001b[0m\u001b[0;34m\u001b[0m\u001b[0;34m\u001b[0m\u001b[0m\n\u001b[1;32m   1745\u001b[0m \u001b[0;34m\u001b[0m\u001b[0m\n",
      "\u001b[0;32m~/.miniconda3/envs/massbank2db_FILES/lib/python3.8/site-packages/pandas/io/sql.py\u001b[0m in \u001b[0;36mexecute\u001b[0;34m(self, *args, **kwargs)\u001b[0m\n\u001b[1;32m   1695\u001b[0m             \u001b[0mcur\u001b[0m \u001b[0;34m=\u001b[0m \u001b[0mself\u001b[0m\u001b[0;34m.\u001b[0m\u001b[0mcon\u001b[0m\u001b[0;34m.\u001b[0m\u001b[0mcursor\u001b[0m\u001b[0;34m(\u001b[0m\u001b[0;34m)\u001b[0m\u001b[0;34m\u001b[0m\u001b[0;34m\u001b[0m\u001b[0m\n\u001b[1;32m   1696\u001b[0m         \u001b[0;32mtry\u001b[0m\u001b[0;34m:\u001b[0m\u001b[0;34m\u001b[0m\u001b[0;34m\u001b[0m\u001b[0m\n\u001b[0;32m-> 1697\u001b[0;31m             \u001b[0mcur\u001b[0m\u001b[0;34m.\u001b[0m\u001b[0mexecute\u001b[0m\u001b[0;34m(\u001b[0m\u001b[0;34m*\u001b[0m\u001b[0margs\u001b[0m\u001b[0;34m,\u001b[0m \u001b[0;34m**\u001b[0m\u001b[0mkwargs\u001b[0m\u001b[0;34m)\u001b[0m\u001b[0;34m\u001b[0m\u001b[0;34m\u001b[0m\u001b[0m\n\u001b[0m\u001b[1;32m   1698\u001b[0m             \u001b[0;32mreturn\u001b[0m \u001b[0mcur\u001b[0m\u001b[0;34m\u001b[0m\u001b[0;34m\u001b[0m\u001b[0m\n\u001b[1;32m   1699\u001b[0m         \u001b[0;32mexcept\u001b[0m \u001b[0mException\u001b[0m \u001b[0;32mas\u001b[0m \u001b[0mexc\u001b[0m\u001b[0;34m:\u001b[0m\u001b[0;34m\u001b[0m\u001b[0;34m\u001b[0m\u001b[0m\n",
      "\u001b[0;31mKeyboardInterrupt\u001b[0m: "
     ]
    }
   ],
   "source": [
    "cands = CandSQLiteDB_Massbank(db_fn=DB_FN, molecule_identifier=\"inchikey1\")\n",
    "\n",
    "for ds, in DB_CONN_RO.execute(\"SELECT distinct(dataset) FROM scored_spectra_meta\"): \n",
    "    print(ds)\n",
    "    \n",
    "    d_mf = {}\n",
    "    d_sir = {}\n",
    "        \n",
    "    for idx, (acc, mol) in enumerate(DB_CONN_RO.execute(\n",
    "        \"SELECT accession, inchikey1 FROM scored_spectra_meta \" \\\n",
    "        \"   INNER JOIN molecules m ON m.cid = scored_spectra_meta.molecule \" \\\n",
    "        \"   INNER JOIN datasets d ON d.name = scored_spectra_meta.dataset \" \\\n",
    "        \"   WHERE dataset IS ? AND retention_time >= 3 * column_dead_time_min\",\n",
    "        (ds, )\n",
    "    )): \n",
    "        #print(acc)\n",
    "        \n",
    "        d_mf[idx] = {}\n",
    "        d_sir[idx] = {}\n",
    "        \n",
    "        spec = Spectrum(np.array([]), np.array([]), metadata={\"spectrum_id\": acc, \"molecule_identifier\": mol})\n",
    "        \n",
    "        # Get the label-space for the spectrum\n",
    "        _lab_space = cands.get_labelspace(spec)\n",
    "        d_mf[idx][\"n_cand\"] = len(_lab_space)\n",
    "        d_sir[idx][\"n_cand\"] = len(_lab_space)\n",
    "        #print(\".. got labelspace\")\n",
    "        \n",
    "        # Find the correct structure on the label-space\n",
    "        _index_of_correct_structure = _lab_space.index(mol)\n",
    "        d_mf[idx][\"index_of_correct_structure\"] = _index_of_correct_structure\n",
    "        d_sir[idx][\"index_of_correct_structure\"] = _index_of_correct_structure\n",
    "        #print(\".. got correct index\")\n",
    "        \n",
    "        # Get the MS2 scores\n",
    "        d_mf[idx][\"score\"] = cands.get_ms2_scores(spec, \"metfrag\", scale_scores_to_range=False, return_as_ndarray=True)\n",
    "        d_sir[idx][\"score\"] = cands.get_ms2_scores(spec, \"sirius__sd__correct_mf\", scale_scores_to_range=False, return_as_ndarray=True)\n",
    "        #print(\".. got ms2 scores\")\n",
    "    \n",
    "    print(np.median([d_mf[i][\"n_cand\"] for i in range(idx)]))\n",
    "    print(np.round(get_topk_performance_csifingerid(d_mf)[1][[0, 4, 9, 19]], 1))\n",
    "    print(np.round(get_topk_performance_csifingerid(d_sir)[1][[0, 4, 9, 19]], 1))"
   ]
  }
 ],
 "metadata": {
  "kernelspec": {
   "display_name": "massbank2db_FILES",
   "language": "python",
   "name": "massbank2db_files"
  },
  "language_info": {
   "codemirror_mode": {
    "name": "ipython",
    "version": 3
   },
   "file_extension": ".py",
   "mimetype": "text/x-python",
   "name": "python",
   "nbconvert_exporter": "python",
   "pygments_lexer": "ipython3",
   "version": "3.8.8"
  }
 },
 "nbformat": 4,
 "nbformat_minor": 5
}
